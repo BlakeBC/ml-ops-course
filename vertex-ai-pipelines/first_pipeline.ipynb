{
 "cells": [
  {
   "cell_type": "markdown",
   "id": "4d079ca8-a8db-4640-827e-4a5ca94cb28c",
   "metadata": {},
   "source": [
    "# Create a Simple Vertex AI Pipeline that uses Custom Components\n",
    "\n",
    "\n",
    "### Step 1: Install necessary libraries"
   ]
  },
  {
   "cell_type": "code",
   "execution_count": null,
   "id": "2afff242-61d0-4fb6-91cf-bea3e783a7a2",
   "metadata": {},
   "outputs": [],
   "source": [
    "# Install necessary libraries\n",
    "!pip3 install --user google-cloud-aiplatform==1.0.0 --upgrade\n",
    "!pip3 install --user kfp google-cloud-pipeline-components==0.1.1 --upgrade"
   ]
  },
  {
   "cell_type": "markdown",
   "id": "10624ed1-9a41-4ea7-a473-2b2fd18e2067",
   "metadata": {},
   "source": [
    "#### The following code restarts the Kernel"
   ]
  },
  {
   "cell_type": "code",
   "execution_count": null,
   "id": "0e7934bf-236a-4cda-ab15-3f5b30322d36",
   "metadata": {},
   "outputs": [],
   "source": [
    "# Load necessary libraries\n",
    "import os\n",
    "if not os.getenv(\"IS_TESTING\"):\n",
    "    # Automatically restart kernel after installs\n",
    "    import IPython\n",
    "    app = IPython.Application.instance()\n",
    "    app.kernel.do_shutdown(True)"
   ]
  },
  {
   "cell_type": "markdown",
   "id": "733611dd-a108-4861-80c7-5911f171deb0",
   "metadata": {},
   "source": [
    "Finally, check that you have correctly installed the packages. **The KFP SDK version should be >=1.6**:"
   ]
  },
  {
   "cell_type": "code",
   "execution_count": null,
   "id": "130a980a-7509-40ad-8f2f-83cfd6a4308c",
   "metadata": {},
   "outputs": [],
   "source": [
    "# print KFP SDK version\n",
    "!python3 -c \"import kfp; print('KFP SDK version: {}'.format(kfp.__version__))\"\n",
    "!python3 -c \"import google_cloud_pipeline_components; print('google_cloud_pipeline_components version: {}'.format(google_cloud_pipeline_components.__version__))\""
   ]
  },
  {
   "cell_type": "markdown",
   "id": "5d7fa44d-4403-4ff0-93b8-f1a0205c7659",
   "metadata": {},
   "source": [
    "### Step 2: Set your project ID and bucket\n",
    "\n",
    "You will need a Google Cloud Project ID to run your pipeline, and you will need a Cloud Storage bucket to store pipeline artifacts. "
   ]
  },
  {
   "cell_type": "code",
   "execution_count": null,
   "id": "27c67c0c-579a-4b6c-8bff-133bb1abbee4",
   "metadata": {},
   "outputs": [],
   "source": [
    "# Need to change this for your Project ID\n",
    "PROJECT_ID = \"ml-demos-dar\" \n",
    "\n",
    "# Create a Cloud Storage Bucket and put it's name below\n",
    "BUCKET_NAME=\"gs://ml-demos-dar-ai-pipeline\"\n",
    "\n",
    "# Folder is storage where pipeline artifacts will be stored\n",
    "PIPELINE_ROOT = f\"{BUCKET_NAME}/pipeline_root/\"\n",
    "PIPELINE_ROOT\n",
    "\n",
    "# Make sure jupyter is in you the PATH\n",
    "PATH=%env PATH\n",
    "%env PATH={PATH}:/home/jupyter/.local/bin\n",
    "\n",
    "# Set the Google Cloud Region\n",
    "REGION=\"us-central1\""
   ]
  },
  {
   "cell_type": "markdown",
   "id": "78a076b1-6037-4e91-8005-62f27beebc5a",
   "metadata": {},
   "source": [
    "### Step 3: Import libraries\n",
    "\n",
    "Add the following to import the *libraries* we'll be using throughout this lab:"
   ]
  },
  {
   "cell_type": "code",
   "execution_count": null,
   "id": "21032a55-f184-4b76-a48b-240067927d39",
   "metadata": {},
   "outputs": [],
   "source": [
    "# Load necessary libraries\n",
    "from typing import NamedTuple\n",
    "import kfp\n",
    "from kfp import dsl\n",
    "from kfp.v2 import compiler\n",
    "from kfp.v2.dsl import (Artifact, Dataset, Input, InputPath, Model, Output,\n",
    "                        OutputPath, ClassificationMetrics, Metrics, component)\n",
    "from kfp.v2.google.client import AIPlatformClient\n",
    "from google.cloud import aiplatform\n",
    "from google_cloud_pipeline_components import aiplatform as gcc_aip\n",
    "\n",
    "print(\"Imported required libraries\")"
   ]
  },
  {
   "cell_type": "markdown",
   "id": "5cb43421-7020-4239-98b5-2c8c171a5f0c",
   "metadata": {},
   "source": [
    "### Step 4: Create the Components"
   ]
  },
  {
   "cell_type": "code",
   "execution_count": null,
   "id": "abab5958-a5d0-4caa-8cca-32bf0f7fc800",
   "metadata": {},
   "outputs": [],
   "source": [
    "@component\n",
    "def product_name(text: str) -> str:\n",
    "    print(\"The Pipeline has started!\")\n",
    "    return text\n",
    "\n",
    "\n",
    "print(\"Created first pipeline component\")"
   ]
  },
  {
   "cell_type": "code",
   "execution_count": null,
   "id": "6ea1af2d-ed22-4617-995f-18d2e1876b5b",
   "metadata": {},
   "outputs": [],
   "source": [
    "@component(packages_to_install=[\"emoji\"])\n",
    "def emoji(text: str,\n",
    ") -> NamedTuple(\n",
    "    \"Outputs\",\n",
    "    [\n",
    "        (\"emoji_text\", str),  # Return parameters\n",
    "        (\"emoji\", str),\n",
    "    ],\n",
    "):\n",
    "    import emoji\n",
    "    emoji_text = text\n",
    "    emoji_str = emoji.emojize(':' + emoji_text + ':', use_aliases=True)\n",
    "    print(\"output one: {}; output_two: {}\".format(emoji_text, emoji_str))\n",
    "    return (emoji_text, emoji_str)\n",
    "\n",
    "\n",
    "print(\"Created second pipeline component\")"
   ]
  },
  {
   "cell_type": "code",
   "execution_count": null,
   "id": "703bdb26-6b3a-401a-84c3-ea1f915665e0",
   "metadata": {},
   "outputs": [],
   "source": [
    "@component\n",
    "def build_sentence(product: str, emoji: str, emojitext: str) -> str:\n",
    "    print(\"We completed the pipeline, hooray!\")\n",
    "    end_str = product + \" is \"\n",
    "    if len(emoji) > 0:\n",
    "        end_str += emoji\n",
    "    else:\n",
    "        end_str += emojitext\n",
    "    return(end_str)\n",
    "\n",
    "print(\"Created third pipeline component\")"
   ]
  },
  {
   "cell_type": "markdown",
   "id": "64d52267-7e29-4934-aa06-022b571c8497",
   "metadata": {},
   "source": [
    "### Step 5: Define the Pipeline"
   ]
  },
  {
   "cell_type": "code",
   "execution_count": null,
   "id": "f104cee7-d9f7-49c4-be68-0cf2aea05339",
   "metadata": {},
   "outputs": [],
   "source": [
    "@dsl.pipeline(\n",
    "    name=\"my-first-pipeline\",\n",
    "    description=\"An intro pipeline\",\n",
    "    pipeline_root=PIPELINE_ROOT,\n",
    ")\n",
    "# You can change the `text` and `emoji_str` parameters here to update the pipeline output\n",
    "def intro_pipeline(text: str = \"BigQuery\", emoji_str: str = \"cool\"):\n",
    "    product_task = product_name(text)\n",
    "    emoji_task = emoji(emoji_str)\n",
    "    consumer_task = build_sentence(\n",
    "        product_task.output,\n",
    "        emoji_task.outputs[\"emoji\"],\n",
    "        emoji_task.outputs[\"emoji_text\"],\n",
    "    )\n",
    "    \n",
    "print(\"Ok, now the pipeline has been defined\")"
   ]
  },
  {
   "cell_type": "markdown",
   "id": "dcb121e5-55c6-4bbe-83fa-b9a8057a40e8",
   "metadata": {},
   "source": [
    "### Step 5: Compile and then Submit the Pipeline to Run"
   ]
  },
  {
   "cell_type": "code",
   "execution_count": null,
   "id": "996a8522-4484-4325-91d2-925e56c5bf2e",
   "metadata": {},
   "outputs": [],
   "source": [
    "compiler.Compiler().compile(\n",
    "    pipeline_func=intro_pipeline, package_path=\"intro_pipeline_job.json\"\n",
    ")\n",
    "\n",
    "print(\"The pipeline has been compiled and saved to the file intro_pipeline_job.json\")\n"
   ]
  },
  {
   "cell_type": "code",
   "execution_count": null,
   "id": "80a26a02-971d-4cba-8159-21eb1c7a91a8",
   "metadata": {},
   "outputs": [],
   "source": [
    "aip_client = AIPlatformClient(\n",
    "    project_id=PROJECT_ID,\n",
    "    region=REGION,\n",
    ")"
   ]
  },
  {
   "cell_type": "code",
   "execution_count": null,
   "id": "2aeaa80e-551e-4c2d-af02-7192c1c65f49",
   "metadata": {
    "tags": []
   },
   "outputs": [],
   "source": [
    "response = aip_client.create_run_from_job_spec(\n",
    "    job_spec_path=\"intro_pipeline_job.json\"\n",
    ")"
   ]
  }
 ],
 "metadata": {
  "kernelspec": {
   "display_name": "Python 3 (ipykernel)",
   "language": "python",
   "name": "python3"
  },
  "language_info": {
   "codemirror_mode": {
    "name": "ipython",
    "version": 3
   },
   "file_extension": ".py",
   "mimetype": "text/x-python",
   "name": "python",
   "nbconvert_exporter": "python",
   "pygments_lexer": "ipython3",
   "version": "3.7.12"
  }
 },
 "nbformat": 4,
 "nbformat_minor": 5
}
