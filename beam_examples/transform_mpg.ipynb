{
  "nbformat": 4,
  "nbformat_minor": 0,
  "metadata": {
    "colab": {
      "name": "transform_mpg.ipynb",
      "provenance": [],
      "collapsed_sections": []
    },
    "kernelspec": {
      "name": "python3",
      "display_name": "Python 3"
    },
    "language_info": {
      "name": "python"
    }
  },
  "cells": [
    {
      "cell_type": "code",
      "metadata": {
        "id": "L5_GGYZdarfk"
      },
      "source": [
        "%%bash\n",
        "\n",
        "python --version\n",
        "pip --version\n",
        "\n",
        "pip install apache_beam\n",
        "pip install apache-beam[gcp]"
      ],
      "execution_count": null,
      "outputs": []
    },
    {
      "cell_type": "code",
      "metadata": {
        "id": "KkwQOHb9tUuM"
      },
      "source": [
        "import apache_beam as beam\n",
        "from apache_beam.io import ReadFromText, WriteToText\n",
        "\n",
        "with beam.Pipeline() as p:\n",
        "    (\n",
        "        p | 'Create' >> beam.Create(['noir', 'bree', 'gigi', 'gretyl'])\n",
        "          | 'Transform' >> beam.Map(str.title)\n",
        "          | 'Print' >> beam.Map(print)\n",
        "    )"
      ],
      "execution_count": null,
      "outputs": []
    },
    {
      "cell_type": "code",
      "metadata": {
        "id": "mcC_Rd5XvAgI"
      },
      "source": [
        "import pandas as pd\n",
        "\n",
        "url = 'http://archive.ics.uci.edu/ml/machine-learning-databases/auto-mpg/auto-mpg.data'\n",
        "column_names = ['MPG', 'Cylinders', 'Displacement', 'Horsepower', 'Weight',\n",
        "                'Acceleration', 'Model Year', 'Origin']\n",
        "\n",
        "raw_dataset = pd.read_csv(url, names=column_names,\n",
        "                          na_values='?', comment='\\t',\n",
        "                          sep=' ', skipinitialspace=True)\n",
        "\n",
        "\n",
        "\n",
        "raw_dataset.to_csv('mpg.csv')"
      ],
      "execution_count": null,
      "outputs": []
    },
    {
      "cell_type": "code",
      "metadata": {
        "id": "2BmY2iNDwdoE"
      },
      "source": [
        "! head mpg.csv"
      ],
      "execution_count": null,
      "outputs": []
    },
    {
      "cell_type": "code",
      "metadata": {
        "id": "jzCgqhIJvfaD"
      },
      "source": [
        "import apache_beam as beam\n",
        "from apache_beam.io import ReadFromText, WriteToText\n",
        "\n",
        "\n",
        "class Parse(beam.DoFn):\n",
        "    def process(self,element):\n",
        "        row, MPG, Cylinders, Displacement, Horsepower, Weight, Acceleration, Model_Year, Origin = element.split(',')\n",
        "        try:\n",
        "          # This will cast the strings to numeric values. \n",
        "          # If a record contains invalid data it will be discarded. \n",
        "          # The first column is dropped\n",
        "          MPG = float(MPG)\n",
        "          Cylinders = int(Cylinders)\n",
        "          Displacement = float(Displacement)\n",
        "          Horsepower = float(Horsepower)\n",
        "          Weight = float(Weight)\n",
        "          Acceleration = float(Acceleration)\n",
        "          Model_Year = int(Model_Year)\n",
        "          Origin = int(Origin)\n",
        "          yield (MPG, Cylinders, Displacement, Horsepower, \n",
        "                 Weight, Acceleration, Model_Year, Origin)\n",
        "        except:\n",
        "          pass\n",
        "\n",
        "class EncodeOrigin(beam.DoFn):\n",
        "    def process(self,element):\n",
        "      # This one-hot encodes the Origin Field which is element[7]\n",
        "      # The values of Origin are 1, 2, or 3 (USA, Europe, or Japan)\n",
        "      USA = 0\n",
        "      Europe = 0\n",
        "      Japan = 0\n",
        "      if element[7] == 1: USA = 1\n",
        "      if element[7] == 2: Europe = 1\n",
        "      if element[7] == 3: Japan = 1\n",
        "\n",
        "      result = element[:7] + (USA, Europe, Japan)\n",
        "      yield result\n",
        "\n",
        "class Format(beam.DoFn):\n",
        "    def process(self,element):\n",
        "      # Format the tuple as CSV for output to a file\n",
        "      result = \"{0},{1},{2},{3},{4},{5},{6},{7},{8},{9}\".format(\n",
        "          element[0], \n",
        "          element[1],\n",
        "          element[2],\n",
        "          element[3],\n",
        "          element[4],\n",
        "          element[5],\n",
        "          element[6],\n",
        "          element[7],\n",
        "          element[8],\n",
        "          element[9])\n",
        "      yield result\n",
        "        \n",
        "       \n",
        "filename = 'mpg.csv'\n",
        "with beam.Pipeline() as p:\n",
        "    (\n",
        "        p | 'Read' >> ReadFromText(filename)\n",
        "          | 'Parse' >> beam.ParDo(Parse())\n",
        "          | '1-Hot Encode Origin' >> beam.ParDo(EncodeOrigin())\n",
        "          | 'Format' >> beam.ParDo(Format())\n",
        "          | 'Write' >> WriteToText('mpg_tranformed', file_name_suffix=\".csv\")\n",
        "    )\n"
      ],
      "execution_count": null,
      "outputs": []
    },
    {
      "cell_type": "code",
      "metadata": {
        "id": "6DQRtDLGwUXI"
      },
      "source": [
        "! head mpg_tranformed-00000-of-00001.csv"
      ],
      "execution_count": null,
      "outputs": []
    },
    {
      "cell_type": "code",
      "metadata": {
        "id": "gJE-wbAQ3j05"
      },
      "source": [
        "column_names = ['MPG', 'Cylinders', 'Displacement', 'Horsepower', 'Weight',\n",
        "                'Acceleration', 'Model Year', 'USA', 'Europe', 'Japan']\n",
        "\n",
        "dataset = pd.read_csv('mpg_tranformed-00000-of-00001.csv', names=column_names,\n",
        "                          na_values='?', comment='\\t',\n",
        "                          sep=',', skipinitialspace=True)\n",
        "\n",
        "dataset[:10]"
      ],
      "execution_count": null,
      "outputs": []
    },
    {
      "cell_type": "code",
      "metadata": {
        "id": "BJSoLGG08BLm"
      },
      "source": [
        "dataset.describe().transpose()"
      ],
      "execution_count": null,
      "outputs": []
    },
    {
      "cell_type": "code",
      "metadata": {
        "id": "QKqyXKFJ8T8v"
      },
      "source": [
        "dataset.isna().sum()"
      ],
      "execution_count": null,
      "outputs": []
    },
    {
      "cell_type": "code",
      "metadata": {
        "id": "v38rdh958nJS"
      },
      "source": [
        "import seaborn as sns\n",
        "sns.pairplot(dataset[['MPG', 'Cylinders', 'Horsepower']])"
      ],
      "execution_count": null,
      "outputs": []
    }
  ]
}