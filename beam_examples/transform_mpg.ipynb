{
  "cells": [
    {
      "cell_type": "markdown",
      "metadata": {},
      "source": [
        "# Install Apache Beam using Pip"
      ]
    },
    {
      "cell_type": "code",
      "execution_count": null,
      "metadata": {
        "id": "L5_GGYZdarfk"
      },
      "outputs": [],
      "source": [
        "# Run and print a shell command.\n",
        "def run(cmd):\n",
        "  print('>> {}'.format(cmd))\n",
        "  !{cmd}\n",
        "  print('')\n",
        "\n",
        "# Install apache-beam.\n",
        "run('pip install --quiet apache-beam')\n",
        "run('pip install --quiet apache-beam[gcp]')\n",
        "\n",
        "print(\"Finished installing prerequisites\")"
      ]
    },
    {
      "cell_type": "markdown",
      "metadata": {},
      "source": [
        "# Create a simple Pipeline just to make sure everthing is working\n",
        "\n",
        "### Note: \n",
        "If you get an error when running the following cell, then restart the runtime using the menu __Runtime | Restart runtime__. "
      ]
    },
    {
      "cell_type": "code",
      "execution_count": null,
      "metadata": {
        "id": "KkwQOHb9tUuM"
      },
      "outputs": [],
      "source": [
        "import apache_beam as beam\n",
        "from apache_beam.io import ReadFromText, WriteToText\n",
        "\n",
        "with beam.Pipeline() as p:\n",
        "    (\n",
        "        p | 'Create' >> beam.Create(['noir', 'bree', 'gigi', 'gretyl'])\n",
        "          | 'Transform' >> beam.Map(str.title)\n",
        "          | 'Print' >> beam.Map(print)\n",
        "    )"
      ]
    },
    {
      "cell_type": "markdown",
      "metadata": {},
      "source": [
        "# Get the Data\n",
        "\n",
        "Below we are simply downloding the dataset from UCI. The data is saved to a CSV named mpg.csv. \n",
        "\n",
        "After running the cell, click on the folder view to see the file. "
      ]
    },
    {
      "cell_type": "code",
      "execution_count": null,
      "metadata": {
        "id": "mcC_Rd5XvAgI"
      },
      "outputs": [],
      "source": [
        "import pandas as pd\n",
        "\n",
        "url = 'http://archive.ics.uci.edu/ml/machine-learning-databases/auto-mpg/auto-mpg.data'\n",
        "column_names = ['MPG', 'Cylinders', 'Displacement', 'Horsepower', 'Weight',\n",
        "                'Acceleration', 'Model Year', 'Origin']\n",
        "\n",
        "raw_dataset = pd.read_csv(url, names=column_names,\n",
        "                          na_values='?', comment='\\t',\n",
        "                          sep=' ', skipinitialspace=True)\n",
        "\n",
        "\n",
        "\n",
        "raw_dataset.to_csv('mpg.csv')"
      ]
    },
    {
      "cell_type": "markdown",
      "metadata": {},
      "source": [
        "### Just display the first few records. "
      ]
    },
    {
      "cell_type": "code",
      "execution_count": null,
      "metadata": {
        "id": "2BmY2iNDwdoE"
      },
      "outputs": [],
      "source": [
        "! head mpg.csv"
      ]
    },
    {
      "cell_type": "markdown",
      "metadata": {},
      "source": [
        "# Below is the Pipeliine. The steps are: \n",
        "\n",
        "1. Read the file\n",
        "2. Parse the CSV rows and return Tuples\n",
        "3. One-hot encode the Origin Field\n",
        "4. Convert the Tuples back into CSV rows\n",
        "5. Save the results to a new file (mpg_tranformed.csv)"
      ]
    },
    {
      "cell_type": "code",
      "execution_count": null,
      "metadata": {
        "id": "jzCgqhIJvfaD"
      },
      "outputs": [],
      "source": [
        "import apache_beam as beam\n",
        "from apache_beam.io import ReadFromText, WriteToText\n",
        "\n",
        "\n",
        "class Parse(beam.DoFn):\n",
        "    def process(self,element):\n",
        "        row, MPG, Cylinders, Displacement, Horsepower, Weight, Acceleration, Model_Year, Origin = element.split(',')\n",
        "        try:\n",
        "          # This will cast the strings to numeric values. \n",
        "          # If a record contains invalid data it will be discarded. \n",
        "          # The first column is dropped\n",
        "          MPG = float(MPG)\n",
        "          Cylinders = int(Cylinders)\n",
        "          Displacement = float(Displacement)\n",
        "          Horsepower = float(Horsepower)\n",
        "          Weight = float(Weight)\n",
        "          Acceleration = float(Acceleration)\n",
        "          Model_Year = int(Model_Year)\n",
        "          Origin = int(Origin)\n",
        "          yield (MPG, Cylinders, Displacement, Horsepower, \n",
        "                 Weight, Acceleration, Model_Year, Origin)\n",
        "        except:\n",
        "          pass\n",
        "\n",
        "class EncodeOrigin(beam.DoFn):\n",
        "    def process(self,element):\n",
        "      # This one-hot encodes the Origin Field which is element[7]\n",
        "      # The values of Origin are 1, 2, or 3 (USA, Europe, or Japan)\n",
        "      USA = 0\n",
        "      Europe = 0\n",
        "      Japan = 0\n",
        "      if element[7] == 1: USA = 1\n",
        "      if element[7] == 2: Europe = 1\n",
        "      if element[7] == 3: Japan = 1\n",
        "\n",
        "      result = element[:7] + (USA, Europe, Japan)\n",
        "      yield result\n",
        "\n",
        "class Format(beam.DoFn):\n",
        "    def process(self,element):\n",
        "      # Format the tuple as CSV for output to a file\n",
        "      result = \"{0},{1},{2},{3},{4},{5},{6},{7},{8},{9}\".format(\n",
        "          element[0], \n",
        "          element[1],\n",
        "          element[2],\n",
        "          element[3],\n",
        "          element[4],\n",
        "          element[5],\n",
        "          element[6],\n",
        "          element[7],\n",
        "          element[8],\n",
        "          element[9])\n",
        "      yield result\n",
        "\n",
        "class Format_as_csv(beam.DoFn):\n",
        "    def process(self,element):\n",
        "      # Format the tuple as CSV for output to a file\n",
        "      result = ','.join(map(lambda x: str(x), element))\n",
        "      yield result\n",
        "      \n",
        "       \n",
        "filename = 'mpg.csv'\n",
        "with beam.Pipeline() as p:\n",
        "    (\n",
        "        p | 'Read' >> ReadFromText(filename)\n",
        "          | 'Parse' >> beam.ParDo(Parse())\n",
        "          | '1-Hot Encode Origin' >> beam.ParDo(EncodeOrigin())\n",
        "          | 'Format' >> beam.ParDo(Format())\n",
        "          | 'Write' >> WriteToText('mpg_tranformed', file_name_suffix=\".csv\")\n",
        "    )\n"
      ]
    },
    {
      "cell_type": "markdown",
      "metadata": {},
      "source": [
        "### See the results in the oputput file"
      ]
    },
    {
      "cell_type": "code",
      "execution_count": null,
      "metadata": {
        "id": "6DQRtDLGwUXI"
      },
      "outputs": [],
      "source": [
        "! head mpg_tranformed-00000-of-00001.csv"
      ]
    },
    {
      "cell_type": "markdown",
      "metadata": {},
      "source": [
        "# Read the Output file into a Pandas Dataset"
      ]
    },
    {
      "cell_type": "code",
      "execution_count": null,
      "metadata": {
        "id": "gJE-wbAQ3j05"
      },
      "outputs": [],
      "source": [
        "column_names = ['MPG', 'Cylinders', 'Displacement', 'Horsepower', 'Weight',\n",
        "                'Acceleration', 'Model Year', 'USA', 'Europe', 'Japan']\n",
        "\n",
        "dataset = pd.read_csv('mpg_tranformed-00000-of-00001.csv', names=column_names,\n",
        "                          na_values='?', comment='\\t',\n",
        "                          sep=',', skipinitialspace=True)\n",
        "\n",
        "dataset[:10]"
      ]
    },
    {
      "cell_type": "markdown",
      "metadata": {},
      "source": [
        "### Use Pandas to Describe the File"
      ]
    },
    {
      "cell_type": "code",
      "execution_count": null,
      "metadata": {
        "id": "BJSoLGG08BLm"
      },
      "outputs": [],
      "source": [
        "dataset.describe().transpose()"
      ]
    },
    {
      "cell_type": "markdown",
      "metadata": {},
      "source": [
        "### There shouldn't be any Null values, see if that is true"
      ]
    },
    {
      "cell_type": "code",
      "execution_count": null,
      "metadata": {
        "id": "QKqyXKFJ8T8v"
      },
      "outputs": [],
      "source": [
        "dataset.isna().sum()"
      ]
    },
    {
      "cell_type": "markdown",
      "metadata": {},
      "source": [
        "### Use Seaborn to plot the relationship between fields"
      ]
    },
    {
      "cell_type": "code",
      "execution_count": null,
      "metadata": {
        "id": "v38rdh958nJS"
      },
      "outputs": [],
      "source": [
        "import seaborn as sns\n",
        "sns.pairplot(dataset[['MPG', 'Cylinders', 'Horsepower']])"
      ]
    }
  ],
  "metadata": {
    "colab": {
      "collapsed_sections": [],
      "name": "transform_mpg.ipynb",
      "provenance": []
    },
    "kernelspec": {
      "display_name": "Python 3",
      "name": "python3"
    },
    "language_info": {
      "name": "python"
    }
  },
  "nbformat": 4,
  "nbformat_minor": 0
}
