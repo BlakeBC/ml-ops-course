{
  "nbformat": 4,
  "nbformat_minor": 0,
  "metadata": {
    "colab": {
      "name": "apache_beam_basics.ipynb",
      "provenance": []
    },
    "kernelspec": {
      "name": "python3",
      "display_name": "Python 3"
    },
    "language_info": {
      "name": "python"
    }
  },
  "cells": [
    {
      "cell_type": "markdown",
      "metadata": {
        "id": "fro4L-MQ29vM"
      },
      "source": [
        "# Install Apache Beam using Pip"
      ]
    },
    {
      "cell_type": "code",
      "metadata": {
        "id": "z-4-Gu_HveT8"
      },
      "source": [
        "%%bash\n",
        "\n",
        "python --version\n",
        "pip --version\n",
        "\n",
        "pip install apache_beam\n",
        "pip install apache-beam[gcp]"
      ],
      "execution_count": null,
      "outputs": []
    },
    {
      "cell_type": "markdown",
      "metadata": {
        "id": "PjgDHL9WDpvJ"
      },
      "source": [
        "# Create a simple Pipeline From an Array"
      ]
    },
    {
      "cell_type": "code",
      "metadata": {
        "id": "Ep6-mzmHvs0h"
      },
      "source": [
        "import apache_beam as beam\n",
        "\n",
        "with beam.Pipeline() as p:\n",
        "    (\n",
        "        p | 'Create' >> beam.Create(['noir', 'bree', 'gigi', 'gretyl'])\n",
        "          | 'Transform' >> beam.Map(str.title)\n",
        "          | 'Print' >> beam.Map(print)\n",
        "    )"
      ],
      "execution_count": null,
      "outputs": []
    },
    {
      "cell_type": "code",
      "metadata": {
        "id": "rGSl4BGmkJCD"
      },
      "source": [
        ""
      ],
      "execution_count": null,
      "outputs": []
    },
    {
      "cell_type": "markdown",
      "metadata": {
        "id": "1twZ-ruNQFfg"
      },
      "source": [
        "# Using .Apply instead of the Pipe Character"
      ]
    },
    {
      "cell_type": "code",
      "metadata": {
        "id": "pEpIxWwmQLkK"
      },
      "source": [
        "import apache_beam as beam\n",
        "\n",
        "with beam.Pipeline() as p:\n",
        "    dogs = (\n",
        "        p | 'Create' >> beam.Create(['noir', 'bree', 'gigi', 'gretyl'])\n",
        "    )\n",
        "    uppercase_dogs = dogs.apply(beam.Map(str.title))\n",
        "    printed_dogs = uppercase_dogs.apply(beam.Map(print))"
      ],
      "execution_count": null,
      "outputs": []
    },
    {
      "cell_type": "markdown",
      "metadata": {
        "id": "DBTsnXPKGUCY"
      },
      "source": [
        "# Create a File for Testing\n",
        "\n",
        "No big deal here. Just creating a file to read from. \n"
      ]
    },
    {
      "cell_type": "code",
      "metadata": {
        "id": "34gQNi-w0yI6"
      },
      "source": [
        "%%bash\n",
        "\n",
        "# First make sure the file doesn't exist\n",
        "rm dogs.txt\n",
        "\n",
        "#Write the dog names to a file dogs.txt\n",
        "for dog in Noir Bree Gigi Gretyl Duchess Rusty\n",
        "do\n",
        "  echo $dog >> dogs.txt\n",
        "done\n",
        "\n",
        "# This is a great line of code :)\n",
        "cat dogs.txt"
      ],
      "execution_count": null,
      "outputs": []
    },
    {
      "cell_type": "markdown",
      "metadata": {
        "id": "f2u4RpnVHMhI"
      },
      "source": [
        "# Use Beam.IO to Read From a File"
      ]
    },
    {
      "cell_type": "code",
      "metadata": {
        "id": "OZnnfLfqDcZ9"
      },
      "source": [
        "import apache_beam as beam\n",
        "from apache_beam.io import ReadFromText, WriteToText\n",
        "\n",
        "filename = 'dogs.txt'\n",
        "with beam.Pipeline() as p:\n",
        "    (\n",
        "        p | 'Read' >> ReadFromText(filename)\n",
        "          | 'Transform' >> beam.Map(str.upper)\n",
        "          | 'Print' >> beam.Map(print)\n",
        "    )"
      ],
      "execution_count": null,
      "outputs": []
    },
    {
      "cell_type": "markdown",
      "metadata": {
        "id": "1osrl5ac3YHl"
      },
      "source": [
        "# Beam.Map\n",
        "\n",
        "This example just reads from a file and transforms it using a Python function. "
      ]
    },
    {
      "cell_type": "code",
      "metadata": {
        "id": "LYUwlHtKwHKr"
      },
      "source": [
        "import apache_beam as beam\n",
        "from apache_beam.io import ReadFromText, WriteToText\n",
        "\n",
        "def makeUppercase(element):\n",
        "    return element.upper()\n",
        "\n",
        "filename = 'dogs.txt'\n",
        "with beam.Pipeline() as p:\n",
        "    (\n",
        "        p | 'Read' >> ReadFromText(filename)\n",
        "          #| 'Transform' >> beam.Map(makeUppercase)\n",
        "          | 'Transform with Lambda' >> beam.Map(lambda item: item.upper())\n",
        "          | 'Print' >> beam.Map(print)\n",
        "    )"
      ],
      "execution_count": null,
      "outputs": []
    },
    {
      "cell_type": "markdown",
      "metadata": {
        "id": "6DOUXWoxH4tm"
      },
      "source": [
        "# Use Beam.IO Write a File"
      ]
    },
    {
      "cell_type": "code",
      "metadata": {
        "id": "E0bpfzHT3oMg"
      },
      "source": [
        "import apache_beam as beam\n",
        "from apache_beam.io import ReadFromText, WriteToText\n",
        "\n",
        "def makeUppercase(element):\n",
        "    return element.upper()\n",
        "\n",
        "filename = 'dogs.txt'\n",
        "with beam.Pipeline() as p:\n",
        "    (\n",
        "        p | 'Read' >> ReadFromText(filename)\n",
        "          | 'Transform' >> beam.Map(makeUppercase)\n",
        "          | 'Write' >> WriteToText('uppercase-dogs.out')\n",
        "    )\n",
        "\n",
        "\n",
        "# Use ls to see if the file was created and\n",
        "# cat to view the contents of the file. \n",
        "!ls\n",
        "! cat uppercase-dogs.out-00000-of-00001"
      ],
      "execution_count": null,
      "outputs": []
    },
    {
      "cell_type": "markdown",
      "metadata": {
        "id": "Wg6SiWJGIWUo"
      },
      "source": [
        "#Using ParDo() instead of Map()\n",
        "\n",
        "Note the use of the yield statement when using Pardo, as opposed to the return statement when using a function called with Map()"
      ]
    },
    {
      "cell_type": "code",
      "metadata": {
        "id": "dNW0JVpe5OXV"
      },
      "source": [
        "class MakeUpperCase(beam.DoFn):\n",
        "    def process(self, element):\n",
        "      transformed = element.upper()\n",
        "      yield transformed\n",
        "        \n",
        "\n",
        "filename = 'dogs.txt'\n",
        "with beam.Pipeline() as p:\n",
        "    (\n",
        "        p | 'Read' >> ReadFromText(filename)\n",
        "          | 'Transform' >> beam.ParDo(MakeUpperCase())\n",
        "          | 'Write' >> WriteToText('pardo-uppercase-dogs.out')\n",
        "    )\n",
        "\n",
        "!ls\n",
        "!cat pardo-uppercase-dogs.out-00000-of-00001"
      ],
      "execution_count": null,
      "outputs": []
    },
    {
      "cell_type": "markdown",
      "metadata": {
        "id": "jBWsSRSPI7G4"
      },
      "source": [
        "# Create another Test File\n",
        "\n",
        "Just creating another test file. This one has Species and Name, so we can experiment with grouping and aggregations. "
      ]
    },
    {
      "cell_type": "code",
      "metadata": {
        "id": "gIgTBwjR7Mdq"
      },
      "source": [
        "%%bash\n",
        "\n",
        "# This just creates a file so we can process it. \n",
        "# First make sure the file doesn't exist\n",
        "rm pets.txt\n",
        "\n",
        "#Write the dog names to a file dogs.txt\n",
        "for pet in dog,noir dog,Bree dog,Gigi dog,Gretyl dog,Duchess dog,Rusty cat,Cleo cat,Sparkles cat,Phelix turtle,Cuff turtle,Link\n",
        "do\n",
        "  echo $pet >> pets.txt\n",
        "done\n",
        "\n",
        "\n",
        "cat pets.txt"
      ],
      "execution_count": null,
      "outputs": []
    },
    {
      "cell_type": "markdown",
      "metadata": {
        "id": "NNKqkE7zJNES"
      },
      "source": [
        "# Parse and Filter\n",
        "\n",
        "After reading the file, each row is converted into a Tuple with Species and Name. \n",
        "\n",
        "Then, we can get rid of the cats. "
      ]
    },
    {
      "cell_type": "code",
      "metadata": {
        "id": "wo9c4BBc8jUi"
      },
      "source": [
        "class ParsePets(beam.DoFn):\n",
        "    def process(self,element):\n",
        "        species, name = element.split(',')\n",
        "        yield (species, name)\n",
        "\n",
        "class NoCats(beam.DoFn):\n",
        "    def process(self,element):\n",
        "        if element[0] != 'cat':\n",
        "          yield element\n",
        "\n",
        "\n",
        "def print_results(element):\n",
        "  print(element)\n",
        "  return element\n",
        "\n",
        "filename = 'pets.txt'\n",
        "with beam.Pipeline() as p:\n",
        "    (\n",
        "        p | 'Read' >> ReadFromText(filename)\n",
        "          | 'Parse' >> beam.ParDo(ParsePets())\n",
        "          | 'Filter' >> beam.ParDo(NoCats())\n",
        "          | 'Make the Name UCase' >> beam.Map(lambda pet : (pet[0], pet[1].upper()))\n",
        "          | 'Print' >> beam.Map(print_results)\n",
        "          | 'Write' >> WriteToText('results.out')\n",
        "    )\n",
        "\n",
        "! ls\n",
        "\n",
        "! cat results.out-00000-of-00001"
      ],
      "execution_count": null,
      "outputs": []
    },
    {
      "cell_type": "markdown",
      "metadata": {
        "id": "L5axr3qgJ2VJ"
      },
      "source": [
        "# Map and FlatMap versus Pardo\n",
        "\n",
        "The example below is functionally equivalent to the previous example. However, it uses Map() and FlatMap() rather then ParDo(). \n",
        "\n",
        "Use FlatMap() when the number for items in the PCollection will be less after the transform. Also, in the filtering function, note the use of yield, not return."
      ]
    },
    {
      "cell_type": "code",
      "metadata": {
        "id": "PN56GIVZJxoN"
      },
      "source": [
        "def parseThePets(element):\n",
        "    species, name = element.split(',')\n",
        "    return (species, name)\n",
        "\n",
        "def filterOutTheCats(element):\n",
        "  if element[0] != 'cat':\n",
        "    species, name = (element[0], element[1])\n",
        "    yield (species, name)\n",
        "\n",
        "\n",
        "def print_results(element):\n",
        "  print(element)\n",
        "  return element\n",
        "\n",
        "filename = 'pets.txt'\n",
        "with beam.Pipeline() as p:\n",
        "    (\n",
        "        p | 'Read' >> ReadFromText(filename)\n",
        "          | 'Parse' >> beam.Map(parseThePets)\n",
        "          | 'Filter' >> beam.FlatMap(filterOutTheCats)\n",
        "          | 'Transform' >> beam.Map(lambda pet : (pet[0], pet[1].upper()))\n",
        "          | 'Write' >> WriteToText('results.out')\n",
        "    )\n",
        "\n",
        "! ls\n",
        "! cat results.out-00000-of-00001"
      ],
      "execution_count": null,
      "outputs": []
    },
    {
      "cell_type": "markdown",
      "metadata": {
        "id": "Hfz24B-jOFGL"
      },
      "source": [
        "# Group By Key"
      ]
    },
    {
      "cell_type": "code",
      "metadata": {
        "id": "doz3acc9-nk1"
      },
      "source": [
        "class ParsePets(beam.DoFn):\n",
        "    def process(self,element):\n",
        "        species, name = element.split(',')\n",
        "        yield (species, name)\n",
        "\n",
        "class NoCats(beam.DoFn):\n",
        "    def process(self,element):\n",
        "        if element[0] != 'cat':\n",
        "          yield element\n",
        "\n",
        "def print_results(element):\n",
        "  print(element)\n",
        "  return element\n",
        "\n",
        "filename = 'pets.txt'\n",
        "with beam.Pipeline() as p:\n",
        "    (\n",
        "        p | 'Read' >> ReadFromText(filename)\n",
        "          | 'Parse' >> beam.ParDo(ParsePets())\n",
        "          #| 'Filter' >> beam.ParDo(NoCats())\n",
        "          | 'Make the Name UCase' >> beam.Map(lambda pet : (pet[0], pet[1].upper()))\n",
        "          # The important line is here:\n",
        "          | 'Group by Species' >> beam.GroupByKey() \n",
        "          #| 'Print' >> beam.Map(print_results)\n",
        "          | 'Write' >> WriteToText('results.out')\n",
        "    )\n",
        "\n",
        "\n",
        "!ls\n",
        "!cat results.out-00000-of-00001"
      ],
      "execution_count": null,
      "outputs": []
    },
    {
      "cell_type": "markdown",
      "metadata": {
        "id": "gZdr2YNVOUZv"
      },
      "source": [
        "# Count the Number of Pets by Species"
      ]
    },
    {
      "cell_type": "code",
      "metadata": {
        "id": "76XHDbyz_7_e"
      },
      "source": [
        "class ParsePets(beam.DoFn):\n",
        "    def process(self,element):\n",
        "        species, name = element.split(',')\n",
        "        yield (species, name)\n",
        "\n",
        "\n",
        "def print_results(element):\n",
        "  print(element)\n",
        "  return element\n",
        "\n",
        "filename = 'pets.txt'\n",
        "with beam.Pipeline() as p:\n",
        "    (\n",
        "        p | 'Read' >> ReadFromText(filename)\n",
        "          | 'Parse' >> beam.ParDo(ParsePets())\n",
        "          | 'PairWIthOne' >> beam.Map(lambda x: (x[0], 1))\n",
        "          | 'GroupAndSum' >> beam.CombinePerKey(sum)\n",
        "          | 'Print' >> beam.Map(print_results)\n",
        "          | 'Write' >> WriteToText('results.out')\n",
        "    )\n",
        "\n",
        "! ls\n",
        "! cat results.out-00000-of-00001"
      ],
      "execution_count": null,
      "outputs": []
    }
  ]
}