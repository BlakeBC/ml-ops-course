{
  "nbformat": 4,
  "nbformat_minor": 0,
  "metadata": {
    "colab": {
      "name": "tf_transform-example.ipynb",
      "provenance": [],
      "collapsed_sections": []
    },
    "kernelspec": {
      "name": "python3",
      "display_name": "Python 3"
    },
    "language_info": {
      "name": "python"
    }
  },
  "cells": [
    {
      "cell_type": "markdown",
      "source": [
        "# TF Transform Example\n",
        "\n",
        "\n",
        "### First, install the prerequisites. "
      ],
      "metadata": {
        "id": "cQxhncjoVBGA"
      }
    },
    {
      "cell_type": "code",
      "source": [
        "try:\n",
        "  import colab\n",
        "  !pip install --upgrade pip\n",
        "except:\n",
        "  pass"
      ],
      "metadata": {
        "id": "IDIXGhH6ywS2"
      },
      "execution_count": null,
      "outputs": []
    },
    {
      "cell_type": "code",
      "source": [
        "!pip install -U tfx"
      ],
      "metadata": {
        "id": "jQK9iXPny1Ao"
      },
      "execution_count": null,
      "outputs": []
    },
    {
      "cell_type": "markdown",
      "source": [
        "## Restart the runtime?\n",
        "\n",
        "__Warning:__ If you are using Google Colab, the first time that you run\n",
        "the cell above, you must restart the runtime by clicking\n",
        "above \"RESTART RUNTIME\" button or using \"Runtime > Restart\n",
        "runtime ...\" menu. This is because of the way that Colab\n",
        "loads packages."
      ],
      "metadata": {
        "id": "TcGZVDh8zeWf"
      }
    },
    {
      "cell_type": "code",
      "source": [
        "import pprint\n",
        "import tempfile\n",
        "\n",
        "import tensorflow as tf\n",
        "import tensorflow_transform as tft\n",
        "import tensorflow_transform.beam as tft_beam\n",
        "from tensorflow_transform.tf_metadata import dataset_metadata\n",
        "from tensorflow_transform.tf_metadata import schema_utils"
      ],
      "metadata": {
        "id": "loVrkHdSyNGe"
      },
      "execution_count": null,
      "outputs": []
    },
    {
      "cell_type": "markdown",
      "source": [
        "### Create a Schema \n",
        "\n",
        "The schema describes the RAW data fields that will be passed into the procerssing function. "
      ],
      "metadata": {
        "id": "B0zIEaaSVfKR"
      }
    },
    {
      "cell_type": "code",
      "source": [
        "_RAW_DATA_METADATA = dataset_metadata.DatasetMetadata(\n",
        "    schema_utils.schema_from_feature_spec({\n",
        "        'species': tf.io.FixedLenFeature([], tf.string),\n",
        "        'weight': tf.io.FixedLenFeature([], tf.float32),\n",
        "        'speed': tf.io.FixedLenFeature([], tf.float32),\n",
        "    }))"
      ],
      "metadata": {
        "id": "MV-NaD1vyTB4"
      },
      "execution_count": null,
      "outputs": []
    },
    {
      "cell_type": "markdown",
      "source": [
        "### Just make up dome raw data that will be transformed. "
      ],
      "metadata": {
        "id": "bMd6GbySV7xA"
      }
    },
    {
      "cell_type": "code",
      "source": [
        "_RAW_DATA = [{\n",
        "    'weight': 235.43,\n",
        "    'species': 'elephant',\n",
        "    'speed': 15\n",
        "}, {\n",
        "    'weight': 2.7,\n",
        "    'species': 'chicken',\n",
        "    'speed': 25\n",
        "}, {\n",
        "    'weight': 325.432,\n",
        "    'species': 'pig',\n",
        "    'speed': 10\n",
        "},{\n",
        "    'weight': 21.34,\n",
        "    'species': 'dog',\n",
        "    'speed': 15\n",
        "},{\n",
        "    'weight': 10.5,\n",
        "    'species': 'cat',\n",
        "    'speed': 7\n",
        "},{\n",
        "    'weight': 40,\n",
        "    'species': 'dog',\n",
        "    'speed': 30\n",
        "},{\n",
        "    'weight': 200,\n",
        "    'species': 'human',\n",
        "    'speed': 17\n",
        "}]"
      ],
      "metadata": {
        "id": "PtLlrnfVV4Ao"
      },
      "execution_count": null,
      "outputs": []
    },
    {
      "cell_type": "markdown",
      "source": [
        "### Define a processing Function\n",
        "\n",
        "This function inputs the raw data, uses TF Transform to alter the data, and then returns the processed data. "
      ],
      "metadata": {
        "id": "-YSl3pUlWFs8"
      }
    },
    {
      "cell_type": "code",
      "execution_count": null,
      "metadata": {
        "id": "1oFXICUvyKzG"
      },
      "outputs": [],
      "source": [
        "def _preprocessing_fn(inputs):\n",
        "  \"\"\"Preprocess input columns into transformed columns.\"\"\"\n",
        "  weight = inputs['weight']\n",
        "  species = inputs['species']\n",
        "  speed = inputs['speed']\n",
        "  weight_centered = weight - tft.mean(weight)\n",
        "  speed_normalized = tft.scale_to_0_1(speed)\n",
        "  species_integerized = tft.compute_and_apply_vocabulary(species)\n",
        "  return {\n",
        "      'weight_centered': weight_centered,\n",
        "      'species_integerized': species_integerized,\n",
        "      'speed_normalized': speed_normalized\n",
        "  }"
      ]
    },
    {
      "cell_type": "markdown",
      "source": [
        "### Process the data using TFT Beam"
      ],
      "metadata": {
        "id": "lWuQY2IKWZU6"
      }
    },
    {
      "cell_type": "code",
      "source": [
        "with tft_beam.Context(temp_dir=tempfile.mkdtemp()):\n",
        "  transformed_dataset, transform_fn = ( \n",
        "      (_RAW_DATA, _RAW_DATA_METADATA)\n",
        "      | tft_beam.AnalyzeAndTransformDataset(_preprocessing_fn))\n",
        "\n",
        "transformed_data, transformed_metadata = transformed_dataset  \n",
        "\n",
        "pprint.pprint(transformed_data)"
      ],
      "metadata": {
        "id": "cIZV7PMFE8qN"
      },
      "execution_count": null,
      "outputs": []
    }
  ]
}